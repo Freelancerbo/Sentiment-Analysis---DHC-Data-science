{
  "cells": [
    {
      "cell_type": "code",
      "execution_count": null,
      "metadata": {
        "colab": {
          "base_uri": "https://localhost:8080/"
        },
        "id": "teesdllO-K08",
        "outputId": "e9252421-1426-46fb-a242-1df29afd736d"
      },
      "outputs": [
        {
          "output_type": "stream",
          "name": "stdout",
          "text": [
            "✅ Libraries loaded!\n",
            "\n"
          ]
        },
        {
          "output_type": "stream",
          "name": "stderr",
          "text": [
            "[nltk_data] Downloading package stopwords to /root/nltk_data...\n",
            "[nltk_data]   Package stopwords is already up-to-date!\n"
          ]
        }
      ],
      "source": [
        "# ✅ Step 1: Import Libraries\n",
        "import pandas as pd\n",
        "import numpy as np\n",
        "import re\n",
        "import nltk\n",
        "from nltk.corpus import stopwords\n",
        "from sklearn.feature_extraction.text import CountVectorizer\n",
        "from sklearn.linear_model import LogisticRegression\n",
        "\n",
        "# Download stopwords\n",
        "nltk.download('stopwords')\n",
        "stop_words = set(stopwords.words('english'))\n",
        "\n",
        "print(\"✅ Libraries loaded!\\n\")"
      ]
    },
    {
      "cell_type": "code",
      "source": [
        "from google.colab import files\n",
        "uploaded = files.upload()  # Select 'IMDB Dataset.csv'"
      ],
      "metadata": {
        "colab": {
          "base_uri": "https://localhost:8080/",
          "height": 73
        },
        "id": "5wpUKuc9GErJ",
        "outputId": "1293a6e5-9e0d-4ab7-d6ee-28ff0ada331f"
      },
      "execution_count": null,
      "outputs": [
        {
          "output_type": "display_data",
          "data": {
            "text/plain": [
              "<IPython.core.display.HTML object>"
            ],
            "text/html": [
              "\n",
              "     <input type=\"file\" id=\"files-960d90a9-0e29-482e-b65e-73968fdc0ff5\" name=\"files[]\" multiple disabled\n",
              "        style=\"border:none\" />\n",
              "     <output id=\"result-960d90a9-0e29-482e-b65e-73968fdc0ff5\">\n",
              "      Upload widget is only available when the cell has been executed in the\n",
              "      current browser session. Please rerun this cell to enable.\n",
              "      </output>\n",
              "      <script>// Copyright 2017 Google LLC\n",
              "//\n",
              "// Licensed under the Apache License, Version 2.0 (the \"License\");\n",
              "// you may not use this file except in compliance with the License.\n",
              "// You may obtain a copy of the License at\n",
              "//\n",
              "//      http://www.apache.org/licenses/LICENSE-2.0\n",
              "//\n",
              "// Unless required by applicable law or agreed to in writing, software\n",
              "// distributed under the License is distributed on an \"AS IS\" BASIS,\n",
              "// WITHOUT WARRANTIES OR CONDITIONS OF ANY KIND, either express or implied.\n",
              "// See the License for the specific language governing permissions and\n",
              "// limitations under the License.\n",
              "\n",
              "/**\n",
              " * @fileoverview Helpers for google.colab Python module.\n",
              " */\n",
              "(function(scope) {\n",
              "function span(text, styleAttributes = {}) {\n",
              "  const element = document.createElement('span');\n",
              "  element.textContent = text;\n",
              "  for (const key of Object.keys(styleAttributes)) {\n",
              "    element.style[key] = styleAttributes[key];\n",
              "  }\n",
              "  return element;\n",
              "}\n",
              "\n",
              "// Max number of bytes which will be uploaded at a time.\n",
              "const MAX_PAYLOAD_SIZE = 100 * 1024;\n",
              "\n",
              "function _uploadFiles(inputId, outputId) {\n",
              "  const steps = uploadFilesStep(inputId, outputId);\n",
              "  const outputElement = document.getElementById(outputId);\n",
              "  // Cache steps on the outputElement to make it available for the next call\n",
              "  // to uploadFilesContinue from Python.\n",
              "  outputElement.steps = steps;\n",
              "\n",
              "  return _uploadFilesContinue(outputId);\n",
              "}\n",
              "\n",
              "// This is roughly an async generator (not supported in the browser yet),\n",
              "// where there are multiple asynchronous steps and the Python side is going\n",
              "// to poll for completion of each step.\n",
              "// This uses a Promise to block the python side on completion of each step,\n",
              "// then passes the result of the previous step as the input to the next step.\n",
              "function _uploadFilesContinue(outputId) {\n",
              "  const outputElement = document.getElementById(outputId);\n",
              "  const steps = outputElement.steps;\n",
              "\n",
              "  const next = steps.next(outputElement.lastPromiseValue);\n",
              "  return Promise.resolve(next.value.promise).then((value) => {\n",
              "    // Cache the last promise value to make it available to the next\n",
              "    // step of the generator.\n",
              "    outputElement.lastPromiseValue = value;\n",
              "    return next.value.response;\n",
              "  });\n",
              "}\n",
              "\n",
              "/**\n",
              " * Generator function which is called between each async step of the upload\n",
              " * process.\n",
              " * @param {string} inputId Element ID of the input file picker element.\n",
              " * @param {string} outputId Element ID of the output display.\n",
              " * @return {!Iterable<!Object>} Iterable of next steps.\n",
              " */\n",
              "function* uploadFilesStep(inputId, outputId) {\n",
              "  const inputElement = document.getElementById(inputId);\n",
              "  inputElement.disabled = false;\n",
              "\n",
              "  const outputElement = document.getElementById(outputId);\n",
              "  outputElement.innerHTML = '';\n",
              "\n",
              "  const pickedPromise = new Promise((resolve) => {\n",
              "    inputElement.addEventListener('change', (e) => {\n",
              "      resolve(e.target.files);\n",
              "    });\n",
              "  });\n",
              "\n",
              "  const cancel = document.createElement('button');\n",
              "  inputElement.parentElement.appendChild(cancel);\n",
              "  cancel.textContent = 'Cancel upload';\n",
              "  const cancelPromise = new Promise((resolve) => {\n",
              "    cancel.onclick = () => {\n",
              "      resolve(null);\n",
              "    };\n",
              "  });\n",
              "\n",
              "  // Wait for the user to pick the files.\n",
              "  const files = yield {\n",
              "    promise: Promise.race([pickedPromise, cancelPromise]),\n",
              "    response: {\n",
              "      action: 'starting',\n",
              "    }\n",
              "  };\n",
              "\n",
              "  cancel.remove();\n",
              "\n",
              "  // Disable the input element since further picks are not allowed.\n",
              "  inputElement.disabled = true;\n",
              "\n",
              "  if (!files) {\n",
              "    return {\n",
              "      response: {\n",
              "        action: 'complete',\n",
              "      }\n",
              "    };\n",
              "  }\n",
              "\n",
              "  for (const file of files) {\n",
              "    const li = document.createElement('li');\n",
              "    li.append(span(file.name, {fontWeight: 'bold'}));\n",
              "    li.append(span(\n",
              "        `(${file.type || 'n/a'}) - ${file.size} bytes, ` +\n",
              "        `last modified: ${\n",
              "            file.lastModifiedDate ? file.lastModifiedDate.toLocaleDateString() :\n",
              "                                    'n/a'} - `));\n",
              "    const percent = span('0% done');\n",
              "    li.appendChild(percent);\n",
              "\n",
              "    outputElement.appendChild(li);\n",
              "\n",
              "    const fileDataPromise = new Promise((resolve) => {\n",
              "      const reader = new FileReader();\n",
              "      reader.onload = (e) => {\n",
              "        resolve(e.target.result);\n",
              "      };\n",
              "      reader.readAsArrayBuffer(file);\n",
              "    });\n",
              "    // Wait for the data to be ready.\n",
              "    let fileData = yield {\n",
              "      promise: fileDataPromise,\n",
              "      response: {\n",
              "        action: 'continue',\n",
              "      }\n",
              "    };\n",
              "\n",
              "    // Use a chunked sending to avoid message size limits. See b/62115660.\n",
              "    let position = 0;\n",
              "    do {\n",
              "      const length = Math.min(fileData.byteLength - position, MAX_PAYLOAD_SIZE);\n",
              "      const chunk = new Uint8Array(fileData, position, length);\n",
              "      position += length;\n",
              "\n",
              "      const base64 = btoa(String.fromCharCode.apply(null, chunk));\n",
              "      yield {\n",
              "        response: {\n",
              "          action: 'append',\n",
              "          file: file.name,\n",
              "          data: base64,\n",
              "        },\n",
              "      };\n",
              "\n",
              "      let percentDone = fileData.byteLength === 0 ?\n",
              "          100 :\n",
              "          Math.round((position / fileData.byteLength) * 100);\n",
              "      percent.textContent = `${percentDone}% done`;\n",
              "\n",
              "    } while (position < fileData.byteLength);\n",
              "  }\n",
              "\n",
              "  // All done.\n",
              "  yield {\n",
              "    response: {\n",
              "      action: 'complete',\n",
              "    }\n",
              "  };\n",
              "}\n",
              "\n",
              "scope.google = scope.google || {};\n",
              "scope.google.colab = scope.google.colab || {};\n",
              "scope.google.colab._files = {\n",
              "  _uploadFiles,\n",
              "  _uploadFilesContinue,\n",
              "};\n",
              "})(self);\n",
              "</script> "
            ]
          },
          "metadata": {}
        },
        {
          "output_type": "stream",
          "name": "stdout",
          "text": [
            "Saving IMDB Dataset.csv to IMDB Dataset.csv\n"
          ]
        }
      ]
    },
    {
      "cell_type": "code",
      "source": [
        "\n",
        "df = pd.read_csv('IMDB Dataset.csv')\n",
        "\n",
        "df = df.sample(5000, random_state=42).reset_index(drop=True)\n",
        "\n",
        "print(f\"✅ Dataset loaded with {len(df)} reviews\")"
      ],
      "metadata": {
        "colab": {
          "base_uri": "https://localhost:8080/"
        },
        "id": "hWW1-vl0Lust",
        "outputId": "cf861ae3-62ec-473f-ffa3-0a0bcc8ae9aa"
      },
      "execution_count": null,
      "outputs": [
        {
          "output_type": "stream",
          "name": "stdout",
          "text": [
            "✅ Dataset loaded with 5000 reviews\n"
          ]
        }
      ]
    },
    {
      "cell_type": "code",
      "execution_count": null,
      "metadata": {
        "colab": {
          "base_uri": "https://localhost:8080/"
        },
        "id": "hIPuAjesRfHn",
        "outputId": "4a8c9da4-e93c-41c4-ac70-46b22a135292"
      },
      "outputs": [
        {
          "output_type": "stream",
          "name": "stdout",
          "text": [
            "✅ Real dataset loaded!\n",
            "                                              review sentiment\n",
            "0  I really liked this Summerslam due to the look...  positive\n",
            "1  Not many television shows appeal to quite as m...  positive\n",
            "2  The film quickly gets to a major chase scene w...  negative\n",
            "3  Jane Austen would definitely approve of this o...  positive\n",
            "4  Expectations were somewhat high for me when I ...  negative\n"
          ]
        }
      ],
      "source": [
        "\n",
        "\n",
        "# Load real dataset\n",
        "df = pd.read_csv('IMDB Dataset.csv')  # Kaggle downloaded data\n",
        "\n",
        "# Sample 1000 rows\n",
        "df = df.sample(1000, random_state=42).reset_index(drop=True)\n",
        "\n",
        "print(\"✅ Real dataset loaded!\")\n",
        "print(df[['review', 'sentiment']].head())"
      ]
    },
    {
      "cell_type": "code",
      "execution_count": null,
      "metadata": {
        "id": "VCtSnG9aVMRA"
      },
      "outputs": [],
      "source": [
        "\n",
        "custom_stop_words = set(stopwords.words('english')) - {'not', 'but', 'very', 'no', 'nor'}\n",
        "\n",
        "def preprocess_text(text):\n",
        "    text = text.lower()\n",
        "    # removingspecial characters\n",
        "    text = re.sub(r'[^a-zA-Z\\s]', '', text)\n",
        "    # Extra spaces hatado\n",
        "    text = ' '.join(text.split())\n",
        "    # Custom stopwords used\n",
        "    words = [w for w in text.split() if w not in custom_stop_words]\n",
        "    return ' '.join(words)\n",
        "\n",
        "df['cleaned_review'] = df['review'].apply(preprocess_text)"
      ]
    },
    {
      "cell_type": "code",
      "execution_count": null,
      "metadata": {
        "colab": {
          "base_uri": "https://localhost:8080/"
        },
        "id": "bZl-pAMPYrO1",
        "outputId": "4a3a74e8-63ff-4d38-dca2-1a4f054e64d3"
      },
      "outputs": [
        {
          "output_type": "stream",
          "name": "stdout",
          "text": [
            " Training Accuracy: 1.00\n",
            " Testing Accuracy: 0.82 (Expected: 80%+)\n"
          ]
        }
      ],
      "source": [
        "vectorizer = CountVectorizer(max_features=2000)\n",
        "X = vectorizer.fit_transform(df['cleaned_review'])\n",
        "y = (df['sentiment'] == 'positive').astype(int)\n",
        "\n",
        "# Train-test split\n",
        "X_train, X_test, y_train, y_test = train_test_split(X, y, test_size=0.2, random_state=42)\n",
        "\n",
        "# Train model\n",
        "model = LogisticRegression()\n",
        "model.fit(X_train, y_train)\n",
        "\n",
        "# Evaluate\n",
        "train_acc = model.score(X_train, y_train)\n",
        "test_acc = model.score(X_test, y_test)\n",
        "print(f\" Training Accuracy: {train_acc:.2f}\")\n",
        "print(f\" Testing Accuracy: {test_acc:.2f} (Expected: 80%+)\")"
      ]
    },
    {
      "cell_type": "code",
      "source": [
        "\n",
        "vectorizer = CountVectorizer(max_features=3000, ngram_range=(1, 2), min_df=2)\n",
        "X = vectorizer.fit_transform(df['cleaned_review'])\n",
        "y = (df['sentiment'] == 'positive').astype(int)\n",
        "\n",
        "# Train-test split\n",
        "X_train, X_test, y_train, y_test = train_test_split(X, y, test_size=0.2, random_state=42)"
      ],
      "metadata": {
        "id": "rzOIj0UxNCBB"
      },
      "execution_count": null,
      "outputs": []
    },
    {
      "cell_type": "code",
      "execution_count": null,
      "metadata": {
        "colab": {
          "base_uri": "https://localhost:8080/"
        },
        "id": "92NZ28bndHgF",
        "outputId": "f2b996eb-722d-4aa9-98e0-d4441babcb31"
      },
      "outputs": [
        {
          "output_type": "stream",
          "name": "stdout",
          "text": [
            "Training samples: 800\n",
            "Testing samples: 200\n"
          ]
        }
      ],
      "source": [
        "# Train_Test_Split\n",
        "X_train, X_test, y_train, y_test = train_test_split(X, y, test_size=0.2, random_state=42, stratify=y)\n",
        "print(f\"Training samples: {X_train.shape[0]}\")\n",
        "print(f\"Testing samples: {X_test.shape[0]}\")"
      ]
    },
    {
      "cell_type": "code",
      "execution_count": null,
      "metadata": {
        "colab": {
          "base_uri": "https://localhost:8080/"
        },
        "id": "ihfUwUMTdol0",
        "outputId": "7edcfb1a-f8a5-48c8-ec48-8a8a853b0467"
      },
      "outputs": [
        {
          "output_type": "stream",
          "name": "stdout",
          "text": [
            "🎯 Training Accuracy: 1.00\n",
            "✅ Testing Accuracy: 0.83\n"
          ]
        }
      ],
      "source": [
        "model = LogisticRegression(max_iter=1000)\n",
        "model.fit(X_train, y_train)\n",
        "\n",
        "# Accuracy check\n",
        "train_acc = model.score(X_train, y_train)\n",
        "test_acc = model.score(X_test, y_test)\n",
        "print(f\"🎯 Training Accuracy: {train_acc:.2f}\")\n",
        "print(f\"✅ Testing Accuracy: {test_acc:.2f}\")"
      ]
    },
    {
      "cell_type": "code",
      "execution_count": null,
      "metadata": {
        "id": "ZDkChPUqgVlh"
      },
      "outputs": [],
      "source": [
        "def predict_sentiment(review):\n",
        "    cleaned = preprocess_text(review)\n",
        "    vector = vectorizer.transform([cleaned])\n",
        "    pred = model.predict(vector)[0]\n",
        "    proba = model.predict_proba(vector)[0]\n",
        "    sentiment = \"😊 Positive\" if pred == 1 else \"😠 Negative\"\n",
        "    confidence = max(proba) * 100\n",
        "    return sentiment, confidence"
      ]
    },
    {
      "cell_type": "code",
      "execution_count": null,
      "metadata": {
        "colab": {
          "base_uri": "https://localhost:8080/"
        },
        "id": "8IJ-9uflk0_x",
        "outputId": "3310bf66-c43a-40a6-e6cd-94dbc443c029"
      },
      "outputs": [
        {
          "output_type": "stream",
          "name": "stdout",
          "text": [
            "\n",
            "🔍 Final Predictions (Improved Model):\n",
            "Review: 'This movie is amazing!' → 😊 Positive (Confidence: 83.5%)\n",
            "Review: 'Worst film ever.' → 😠 Negative (Confidence: 61.8%)\n",
            "Review: 'I loved it so much' → 😊 Positive (Confidence: 68.0%)\n",
            "Review: 'Terrible acting and boring plot' → 😠 Negative (Confidence: 94.5%)\n",
            "Review: 'Fantastic movie, loved it' → 😊 Positive (Confidence: 86.8%)\n",
            "Review: 'Very bad movie, waste of time' → 😠 Negative (Confidence: 98.6%)\n",
            "Review: 'Outstanding performance' → 😊 Positive (Confidence: 75.2%)\n",
            "Review: 'Dull and lifeless' → 😠 Negative (Confidence: 66.8%)\n"
          ]
        }
      ],
      "source": [
        "test_reviews = [\n",
        "    \"This movie is amazing!\",\n",
        "    \"Worst film ever.\",\n",
        "    \"I loved it so much\",\n",
        "    \"Terrible acting and boring plot\",\n",
        "    \"Fantastic movie, loved it\",\n",
        "    \"Very bad movie, waste of time\",\n",
        "    \"Outstanding performance\",\n",
        "    \"Dull and lifeless\"\n",
        "]\n",
        "\n",
        "print(\"\\n🔍 Final Predictions (Improved Model):\")\n",
        "for rev in test_reviews:\n",
        "    sentiment, conf = predict_sentiment(rev)\n",
        "    print(f\"Review: '{rev}' → {sentiment} (Confidence: {conf:.1f}%)\")"
      ]
    },
    {
      "cell_type": "code",
      "source": [
        "# ✅ Step 6: User Input Loop\n",
        "print(\"\\n\" + \"=\"*60)\n",
        "print(\"🎬 REAL-TIME MOVIE REVIEW SENTIMENT ANALYZER\")\n",
        "print(\"Enter your review (or type 'exit' to quit):\")\n",
        "print(\"=\"*60)\n",
        "\n",
        "while True:\n",
        "    user_review = input(\"\\n📝 Your Review: \").strip()\n",
        "\n",
        "    if user_review.lower() in ['quit', 'exit', 'stop']:\n",
        "        print(\"👋 Thank you for using the analyzer! Stay awesome!\")\n",
        "        break\n",
        "\n",
        "    if len(user_review) < 2:\n",
        "        print(\"⚠️  Please enter a valid review.\")\n",
        "        continue\n",
        "\n",
        "    sentiment, conf = predict_sentiment(user_review)\n",
        "    print(f\"🔍 Result: {sentiment}\")\n",
        "    print(f\"📊 Confidence: {conf:.1f}%\")"
      ],
      "metadata": {
        "colab": {
          "base_uri": "https://localhost:8080/"
        },
        "id": "20GsOWuhSrVj",
        "outputId": "7ec66962-9f26-43e8-f1e0-36a221c72e08"
      },
      "execution_count": null,
      "outputs": [
        {
          "output_type": "stream",
          "name": "stdout",
          "text": [
            "\n",
            "============================================================\n",
            "🎬 REAL-TIME MOVIE REVIEW SENTIMENT ANALYZER\n",
            "Enter your review (or type 'exit' to quit):\n",
            "============================================================\n",
            "\n",
            "📝 Your Review: Very bad movie\n",
            "🔍 Result: 😠 Negative\n",
            "📊 Confidence: 72.0%\n",
            "\n",
            "📝 Your Review: nice movie yaar\n",
            "🔍 Result: 😊 Positive\n",
            "📊 Confidence: 69.8%\n",
            "\n",
            "📝 Your Review: superb movie\n",
            "🔍 Result: 😊 Positive\n",
            "📊 Confidence: 77.8%\n",
            "\n",
            "📝 Your Review: lol\n",
            "🔍 Result: 😊 Positive\n",
            "📊 Confidence: 55.7%\n",
            "\n",
            "📝 Your Review: bad\n",
            "🔍 Result: 😠 Negative\n",
            "📊 Confidence: 76.1%\n",
            "\n",
            "📝 Your Review: Interesting \n",
            "🔍 Result: 😠 Negative\n",
            "📊 Confidence: 51.1%\n",
            "\n",
            "📝 Your Review: nice\n",
            "🔍 Result: 😊 Positive\n",
            "📊 Confidence: 69.5%\n",
            "\n",
            "📝 Your Review: positive\n",
            "🔍 Result: 😠 Negative\n",
            "📊 Confidence: 53.2%\n",
            "\n",
            "📝 Your Review: bad\n",
            "🔍 Result: 😠 Negative\n",
            "📊 Confidence: 76.1%\n",
            "\n",
            "📝 Your Review: goog\n",
            "🔍 Result: 😊 Positive\n",
            "📊 Confidence: 55.7%\n",
            "\n",
            "📝 Your Review: good\n",
            "🔍 Result: 😊 Positive\n",
            "📊 Confidence: 59.4%\n",
            "\n",
            "📝 Your Review: higly recommend\n",
            "🔍 Result: 😊 Positive\n",
            "📊 Confidence: 73.0%\n",
            "\n",
            "📝 Your Review: whats the fuck\n",
            "🔍 Result: 😠 Negative\n",
            "📊 Confidence: 63.7%\n",
            "\n",
            "📝 Your Review: what the fuck\n",
            "🔍 Result: 😊 Positive\n",
            "📊 Confidence: 55.7%\n",
            "\n",
            "📝 Your Review: fucck\n",
            "🔍 Result: 😊 Positive\n",
            "📊 Confidence: 55.7%\n",
            "\n",
            "📝 Your Review: time wasting\n",
            "🔍 Result: 😊 Positive\n",
            "📊 Confidence: 56.4%\n",
            "\n",
            "📝 Your Review: boring\n",
            "🔍 Result: 😠 Negative\n",
            "📊 Confidence: 66.0%\n",
            "\n",
            "📝 Your Review: bad\n",
            "🔍 Result: 😠 Negative\n",
            "📊 Confidence: 76.1%\n",
            "\n",
            "📝 Your Review: time wasted boring\n",
            "🔍 Result: 😠 Negative\n",
            "📊 Confidence: 77.0%\n",
            "\n",
            "📝 Your Review: come\n",
            "🔍 Result: 😠 Negative\n",
            "📊 Confidence: 51.4%\n",
            "\n",
            "📝 Your Review: watch\n",
            "🔍 Result: 😊 Positive\n",
            "📊 Confidence: 55.7%\n"
          ]
        }
      ]
    }
  ],
  "metadata": {
    "colab": {
      "provenance": []
    },
    "kernelspec": {
      "display_name": "Python 3",
      "name": "python3"
    },
    "language_info": {
      "name": "python"
    }
  },
  "nbformat": 4,
  "nbformat_minor": 0
}